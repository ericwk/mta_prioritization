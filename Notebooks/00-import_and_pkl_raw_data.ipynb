{
 "cells": [
  {
   "cell_type": "code",
   "execution_count": 1,
   "metadata": {},
   "outputs": [],
   "source": [
    "import pandas as pd\n",
    "import numpy as np\n",
    "import datetime\n",
    "import pickle\n",
    "from string import Template"
   ]
  },
  {
   "cell_type": "code",
   "execution_count": 2,
   "metadata": {
    "collapsed": true
   },
   "outputs": [],
   "source": [
    "def get_MTA_data(startdate, enddate):\n",
    "    \n",
    "    '''\n",
    "    Reads data from New York City MTA web iste that counts subway sation turnstile entries and exits.\n",
    "    Data is available in weekly comma delimited text files with a week beginning on Sunday and ending on Saturday.\n",
    "    Data file names include the ending Saturday date to identify the week the data in the file is for.\n",
    "    Weekly data is concatenated into a Pandas dataframe making it available for analysis.\n",
    "    \n",
    "    Input Parameters\n",
    "    startdate: Saturday date on which to begin reading data (ending Saturday for data file from previous week)\n",
    "    enddate: Saturday date on which to end reading data\n",
    "    \n",
    "    '''\n",
    "    \n",
    "    data = pd.DataFrame()\n",
    "    startdate = pd.to_datetime(startdate)  ### Assumption: Dates are Saturdays\n",
    "    enddate = pd.to_datetime(enddate)\n",
    "    \n",
    "   # data url = 'http://web.mta.info/developers/data/nyct/turnstile/turnstile_180623.txt'\n",
    "    urlbase = Template('http://web.mta.info/developers/data/nyct/turnstile/turnstile_$date.txt')\n",
    "    \n",
    "    week = pd.Timedelta('7 days')\n",
    "    next_saturday = startdate\n",
    "    \n",
    "    week_counter = 1\n",
    "    \n",
    "    while(next_saturday <= enddate):\n",
    "        urlday = next_saturday.strftime('%y%m%d')\n",
    "        url = urlbase.substitute(date=urlday)\n",
    "        next_saturday = next_saturday+week\n",
    "        \n",
    "        newdata = pd.read_csv(url)\n",
    "        \n",
    "        #label each week's observations with a different integer\n",
    "        newdata['week'] = week_counter\n",
    "        week_counter += 1\n",
    "        \n",
    "        data = pd.concat([data,newdata])\n",
    "        \n",
    "   # url = urlbase.substitute(date=date)\n",
    "    return(data)\n",
    "    \n",
    "\n",
    "\n"
   ]
  },
  {
   "cell_type": "code",
   "execution_count": 3,
   "metadata": {
    "collapsed": true
   },
   "outputs": [],
   "source": [
    "# Read data for weeks beginning with ending Saturday 04/28/2018 and ending with ending Saturday 06/30/2018.\n",
    "data = get_MTA_data('04/28/2018','06/30/2018')\n"
   ]
  },
  {
   "cell_type": "code",
   "execution_count": 4,
   "metadata": {},
   "outputs": [],
   "source": [
    "# Save ataframe to poc\n",
    "with open('MTA_Apr_June_with_weeks.pickle', 'wb') as f:\n",
    "    pickle.dump(data,f)"
   ]
  },
  {
   "cell_type": "code",
   "execution_count": null,
   "metadata": {},
   "outputs": [],
   "source": []
  },
  {
   "cell_type": "code",
   "execution_count": null,
   "metadata": {},
   "outputs": [],
   "source": []
  },
  {
   "cell_type": "code",
   "execution_count": null,
   "metadata": {},
   "outputs": [],
   "source": []
  },
  {
   "cell_type": "code",
   "execution_count": null,
   "metadata": {},
   "outputs": [],
   "source": []
  }
 ],
 "metadata": {
  "kernelspec": {
   "display_name": "Python 3",
   "language": "python",
   "name": "python3"
  },
  "language_info": {
   "codemirror_mode": {
    "name": "ipython",
    "version": 3
   },
   "file_extension": ".py",
   "mimetype": "text/x-python",
   "name": "python",
   "nbconvert_exporter": "python",
   "pygments_lexer": "ipython3",
   "version": "3.6.6"
  }
 },
 "nbformat": 4,
 "nbformat_minor": 2
}
