{
 "cells": [
  {
   "cell_type": "code",
   "execution_count": 11,
   "metadata": {},
   "outputs": [],
   "source": [
    "import pandas as pd\n",
    "import numpy as np\n",
    "import datetime\n",
    "import pickle\n",
    "from string import Template\n",
    "import matplotlib.pyplot as plt\n",
    "%matplotlib inline"
   ]
  },
  {
   "cell_type": "code",
   "execution_count": 12,
   "metadata": {},
   "outputs": [],
   "source": [
    "with open('MTA_Apr_June_with_weeks.pickle', 'rb') as f:\n",
    "    data = pickle.load(f)"
   ]
  },
  {
   "cell_type": "code",
   "execution_count": 13,
   "metadata": {},
   "outputs": [
    {
     "data": {
      "text/html": [
       "<div>\n",
       "<style scoped>\n",
       "    .dataframe tbody tr th:only-of-type {\n",
       "        vertical-align: middle;\n",
       "    }\n",
       "\n",
       "    .dataframe tbody tr th {\n",
       "        vertical-align: top;\n",
       "    }\n",
       "\n",
       "    .dataframe thead th {\n",
       "        text-align: right;\n",
       "    }\n",
       "</style>\n",
       "<table border=\"1\" class=\"dataframe\">\n",
       "  <thead>\n",
       "    <tr style=\"text-align: right;\">\n",
       "      <th></th>\n",
       "      <th>C/A</th>\n",
       "      <th>UNIT</th>\n",
       "      <th>SCP</th>\n",
       "      <th>STATION</th>\n",
       "      <th>LINENAME</th>\n",
       "      <th>DIVISION</th>\n",
       "      <th>DATE</th>\n",
       "      <th>TIME</th>\n",
       "      <th>DESC</th>\n",
       "      <th>ENTRIES</th>\n",
       "      <th>EXITS</th>\n",
       "      <th>WEEK</th>\n",
       "    </tr>\n",
       "  </thead>\n",
       "  <tbody>\n",
       "    <tr>\n",
       "      <th>0</th>\n",
       "      <td>A002</td>\n",
       "      <td>R051</td>\n",
       "      <td>02-00-00</td>\n",
       "      <td>59 ST</td>\n",
       "      <td>NQR456W</td>\n",
       "      <td>BMT</td>\n",
       "      <td>04/21/2018</td>\n",
       "      <td>00:00:00</td>\n",
       "      <td>REGULAR</td>\n",
       "      <td>6590024</td>\n",
       "      <td>2232650</td>\n",
       "      <td>1</td>\n",
       "    </tr>\n",
       "    <tr>\n",
       "      <th>1</th>\n",
       "      <td>A002</td>\n",
       "      <td>R051</td>\n",
       "      <td>02-00-00</td>\n",
       "      <td>59 ST</td>\n",
       "      <td>NQR456W</td>\n",
       "      <td>BMT</td>\n",
       "      <td>04/21/2018</td>\n",
       "      <td>04:00:00</td>\n",
       "      <td>REGULAR</td>\n",
       "      <td>6590038</td>\n",
       "      <td>2232663</td>\n",
       "      <td>1</td>\n",
       "    </tr>\n",
       "    <tr>\n",
       "      <th>2</th>\n",
       "      <td>A002</td>\n",
       "      <td>R051</td>\n",
       "      <td>02-00-00</td>\n",
       "      <td>59 ST</td>\n",
       "      <td>NQR456W</td>\n",
       "      <td>BMT</td>\n",
       "      <td>04/21/2018</td>\n",
       "      <td>08:00:00</td>\n",
       "      <td>REGULAR</td>\n",
       "      <td>6590050</td>\n",
       "      <td>2232693</td>\n",
       "      <td>1</td>\n",
       "    </tr>\n",
       "    <tr>\n",
       "      <th>3</th>\n",
       "      <td>A002</td>\n",
       "      <td>R051</td>\n",
       "      <td>02-00-00</td>\n",
       "      <td>59 ST</td>\n",
       "      <td>NQR456W</td>\n",
       "      <td>BMT</td>\n",
       "      <td>04/21/2018</td>\n",
       "      <td>12:00:00</td>\n",
       "      <td>REGULAR</td>\n",
       "      <td>6590131</td>\n",
       "      <td>2232766</td>\n",
       "      <td>1</td>\n",
       "    </tr>\n",
       "    <tr>\n",
       "      <th>4</th>\n",
       "      <td>A002</td>\n",
       "      <td>R051</td>\n",
       "      <td>02-00-00</td>\n",
       "      <td>59 ST</td>\n",
       "      <td>NQR456W</td>\n",
       "      <td>BMT</td>\n",
       "      <td>04/21/2018</td>\n",
       "      <td>16:00:00</td>\n",
       "      <td>REGULAR</td>\n",
       "      <td>6590350</td>\n",
       "      <td>2232816</td>\n",
       "      <td>1</td>\n",
       "    </tr>\n",
       "  </tbody>\n",
       "</table>\n",
       "</div>"
      ],
      "text/plain": [
       "    C/A  UNIT       SCP STATION LINENAME DIVISION        DATE      TIME  \\\n",
       "0  A002  R051  02-00-00   59 ST  NQR456W      BMT  04/21/2018  00:00:00   \n",
       "1  A002  R051  02-00-00   59 ST  NQR456W      BMT  04/21/2018  04:00:00   \n",
       "2  A002  R051  02-00-00   59 ST  NQR456W      BMT  04/21/2018  08:00:00   \n",
       "3  A002  R051  02-00-00   59 ST  NQR456W      BMT  04/21/2018  12:00:00   \n",
       "4  A002  R051  02-00-00   59 ST  NQR456W      BMT  04/21/2018  16:00:00   \n",
       "\n",
       "      DESC  ENTRIES    EXITS  WEEK  \n",
       "0  REGULAR  6590024  2232650     1  \n",
       "1  REGULAR  6590038  2232663     1  \n",
       "2  REGULAR  6590050  2232693     1  \n",
       "3  REGULAR  6590131  2232766     1  \n",
       "4  REGULAR  6590350  2232816     1  "
      ]
     },
     "execution_count": 13,
     "metadata": {},
     "output_type": "execute_result"
    }
   ],
   "source": [
    "# remove white space from columns\n",
    "data.columns = [column.strip() for column in data.columns]\n",
    "data.rename(columns={'week':'WEEK'}, inplace=True)\n",
    "data.head()"
   ]
  },
  {
   "cell_type": "code",
   "execution_count": 14,
   "metadata": {},
   "outputs": [
    {
     "data": {
      "text/html": [
       "<div>\n",
       "<style scoped>\n",
       "    .dataframe tbody tr th:only-of-type {\n",
       "        vertical-align: middle;\n",
       "    }\n",
       "\n",
       "    .dataframe tbody tr th {\n",
       "        vertical-align: top;\n",
       "    }\n",
       "\n",
       "    .dataframe thead th {\n",
       "        text-align: right;\n",
       "    }\n",
       "</style>\n",
       "<table border=\"1\" class=\"dataframe\">\n",
       "  <thead>\n",
       "    <tr style=\"text-align: right;\">\n",
       "      <th></th>\n",
       "      <th>C/A</th>\n",
       "      <th>UNIT</th>\n",
       "      <th>SCP</th>\n",
       "      <th>STATION</th>\n",
       "      <th>LINENAME</th>\n",
       "      <th>DIVISION</th>\n",
       "      <th>DATE</th>\n",
       "      <th>TIME</th>\n",
       "      <th>DESC</th>\n",
       "      <th>ENTRIES</th>\n",
       "      <th>EXITS</th>\n",
       "      <th>WEEK</th>\n",
       "    </tr>\n",
       "  </thead>\n",
       "  <tbody>\n",
       "    <tr>\n",
       "      <th>3948</th>\n",
       "      <td>A030</td>\n",
       "      <td>R083</td>\n",
       "      <td>01-00-00</td>\n",
       "      <td>23 ST</td>\n",
       "      <td>NRW</td>\n",
       "      <td>BMT</td>\n",
       "      <td>04/21/2018</td>\n",
       "      <td>00:00:00</td>\n",
       "      <td>REGULAR</td>\n",
       "      <td>6571203</td>\n",
       "      <td>4200488</td>\n",
       "      <td>1</td>\n",
       "    </tr>\n",
       "    <tr>\n",
       "      <th>3949</th>\n",
       "      <td>A030</td>\n",
       "      <td>R083</td>\n",
       "      <td>01-00-00</td>\n",
       "      <td>23 ST</td>\n",
       "      <td>NRW</td>\n",
       "      <td>BMT</td>\n",
       "      <td>04/21/2018</td>\n",
       "      <td>04:00:00</td>\n",
       "      <td>REGULAR</td>\n",
       "      <td>6571276</td>\n",
       "      <td>4200508</td>\n",
       "      <td>1</td>\n",
       "    </tr>\n",
       "    <tr>\n",
       "      <th>3950</th>\n",
       "      <td>A030</td>\n",
       "      <td>R083</td>\n",
       "      <td>01-00-00</td>\n",
       "      <td>23 ST</td>\n",
       "      <td>NRW</td>\n",
       "      <td>BMT</td>\n",
       "      <td>04/21/2018</td>\n",
       "      <td>08:00:00</td>\n",
       "      <td>REGULAR</td>\n",
       "      <td>6571301</td>\n",
       "      <td>4200573</td>\n",
       "      <td>1</td>\n",
       "    </tr>\n",
       "    <tr>\n",
       "      <th>3951</th>\n",
       "      <td>A030</td>\n",
       "      <td>R083</td>\n",
       "      <td>01-00-00</td>\n",
       "      <td>23 ST</td>\n",
       "      <td>NRW</td>\n",
       "      <td>BMT</td>\n",
       "      <td>04/21/2018</td>\n",
       "      <td>12:00:00</td>\n",
       "      <td>REGULAR</td>\n",
       "      <td>6571447</td>\n",
       "      <td>4200832</td>\n",
       "      <td>1</td>\n",
       "    </tr>\n",
       "    <tr>\n",
       "      <th>3952</th>\n",
       "      <td>A030</td>\n",
       "      <td>R083</td>\n",
       "      <td>01-00-00</td>\n",
       "      <td>23 ST</td>\n",
       "      <td>NRW</td>\n",
       "      <td>BMT</td>\n",
       "      <td>04/21/2018</td>\n",
       "      <td>16:00:00</td>\n",
       "      <td>REGULAR</td>\n",
       "      <td>6571892</td>\n",
       "      <td>4201126</td>\n",
       "      <td>1</td>\n",
       "    </tr>\n",
       "  </tbody>\n",
       "</table>\n",
       "</div>"
      ],
      "text/plain": [
       "       C/A  UNIT       SCP STATION LINENAME DIVISION        DATE      TIME  \\\n",
       "3948  A030  R083  01-00-00   23 ST      NRW      BMT  04/21/2018  00:00:00   \n",
       "3949  A030  R083  01-00-00   23 ST      NRW      BMT  04/21/2018  04:00:00   \n",
       "3950  A030  R083  01-00-00   23 ST      NRW      BMT  04/21/2018  08:00:00   \n",
       "3951  A030  R083  01-00-00   23 ST      NRW      BMT  04/21/2018  12:00:00   \n",
       "3952  A030  R083  01-00-00   23 ST      NRW      BMT  04/21/2018  16:00:00   \n",
       "\n",
       "         DESC  ENTRIES    EXITS  WEEK  \n",
       "3948  REGULAR  6571203  4200488     1  \n",
       "3949  REGULAR  6571276  4200508     1  \n",
       "3950  REGULAR  6571301  4200573     1  \n",
       "3951  REGULAR  6571447  4200832     1  \n",
       "3952  REGULAR  6571892  4201126     1  "
      ]
     },
     "execution_count": 14,
     "metadata": {},
     "output_type": "execute_result"
    }
   ],
   "source": [
    "#data.info()\n",
    "data[data['STATION'] == '23 ST'].head()"
   ]
  },
  {
   "cell_type": "code",
   "execution_count": 15,
   "metadata": {},
   "outputs": [
    {
     "data": {
      "text/plain": [
       "00:00:00    170048\n",
       "04:00:00    170046\n",
       "20:00:00    170017\n",
       "08:00:00    169996\n",
       "16:00:00    169992\n",
       "12:00:00    169854\n",
       "01:00:00    120950\n",
       "05:00:00    120928\n",
       "09:00:00    120830\n",
       "21:00:00    120828\n",
       "13:00:00    120815\n",
       "17:00:00    120814\n",
       "22:00:00      7694\n",
       "18:00:00      7693\n",
       "10:00:00      7692\n",
       "02:00:00      7691\n",
       "14:00:00      7684\n",
       "06:00:00      7682\n",
       "23:00:00      2731\n",
       "11:00:00      2731\n",
       "15:00:00      2729\n",
       "03:00:00      2727\n",
       "19:00:00      2726\n",
       "07:00:00      2716\n",
       "00:22:00      2594\n",
       "12:22:00      2591\n",
       "04:22:00      2590\n",
       "20:22:00      2590\n",
       "08:22:00      2590\n",
       "16:22:00      2577\n",
       "             ...  \n",
       "11:24:04         1\n",
       "12:55:38         1\n",
       "03:44:11         1\n",
       "04:22:45         1\n",
       "15:55:40         1\n",
       "10:53:55         1\n",
       "11:06:09         1\n",
       "03:46:28         1\n",
       "05:10:36         1\n",
       "19:20:33         1\n",
       "09:27:53         1\n",
       "10:43:59         1\n",
       "19:35:39         1\n",
       "21:47:37         1\n",
       "01:03:32         1\n",
       "22:37:31         1\n",
       "04:05:16         1\n",
       "01:49:13         1\n",
       "07:52:49         1\n",
       "11:15:43         1\n",
       "22:14:04         1\n",
       "17:42:34         1\n",
       "07:15:27         1\n",
       "08:55:48         1\n",
       "18:01:45         1\n",
       "00:37:09         1\n",
       "16:13:09         1\n",
       "02:19:24         1\n",
       "16:14:58         1\n",
       "13:55:37         1\n",
       "Name: TIME, Length: 50383, dtype: int64"
      ]
     },
     "execution_count": 15,
     "metadata": {},
     "output_type": "execute_result"
    }
   ],
   "source": [
    "data['TIME'] = pd.to_datetime(data['TIME'], infer_datetime_format=True, cache=True).apply(lambda x: x.time())\n",
    "data.TIME.value_counts()"
   ]
  },
  {
   "cell_type": "code",
   "execution_count": 16,
   "metadata": {},
   "outputs": [],
   "source": [
    "#Select data for 12:00 pm-9:00 pm, when most tech-employees and potential donors might be on the streets\n",
    "data = data[(data['TIME']>pd.to_datetime('12:00:00').time()) & (data['TIME']<pd.to_datetime('21:00:00').time())]"
   ]
  },
  {
   "cell_type": "code",
   "execution_count": 17,
   "metadata": {},
   "outputs": [
    {
     "data": {
      "text/plain": [
       "(665606, 12)"
      ]
     },
     "execution_count": 17,
     "metadata": {},
     "output_type": "execute_result"
    }
   ],
   "source": [
    "data.shape"
   ]
  },
  {
   "cell_type": "code",
   "execution_count": 18,
   "metadata": {
    "collapsed": true
   },
   "outputs": [],
   "source": [
    "#function to calculate the difference between a series max and min values.\n",
    "#will be applied on unique turnstile_id + day-level\n",
    "def difference(srs):\n",
    "    return srs.max() - srs.min()"
   ]
  },
  {
   "cell_type": "markdown",
   "metadata": {},
   "source": [
    "#Identifying and grouping by unique turnstiles, taking the daily max-daily min for that turnstile:"
   ]
  },
  {
   "cell_type": "code",
   "execution_count": 19,
   "metadata": {},
   "outputs": [],
   "source": [
    "turnstile_col_names =['STATION','C/A','UNIT','SCP']\n",
    "\n",
    "by_turnstile_date =  data.groupby(by=turnstile_col_names+['WEEK']+['DATE'], as_index=False).agg(difference)\n",
    "by_turnstile_date['turnstile_id'] = by_turnstile_date.apply(lambda x: str(x['STATION']+'_'+x['C/A']+'_'+x['UNIT']+'_'+x['SCP']), axis=1)"
   ]
  },
  {
   "cell_type": "code",
   "execution_count": 20,
   "metadata": {},
   "outputs": [
    {
     "data": {
      "text/plain": [
       "count    3.285520e+05\n",
       "mean     1.927503e+04\n",
       "std      4.988357e+06\n",
       "min      0.000000e+00\n",
       "25%      6.300000e+01\n",
       "50%      2.110000e+02\n",
       "75%      4.410000e+02\n",
       "max      2.113960e+09\n",
       "Name: ENTRIES, dtype: float64"
      ]
     },
     "execution_count": 20,
     "metadata": {},
     "output_type": "execute_result"
    }
   ],
   "source": [
    "by_turnstile_date['ENTRIES'].describe()\n",
    "#plt.hist(by_station_date['ENTRIES'][by_station_date['ENTRIES']>861])"
   ]
  },
  {
   "cell_type": "markdown",
   "metadata": {},
   "source": [
    "#turnstiles with 1 really high day's entries probably are showing data anomalies:"
   ]
  },
  {
   "cell_type": "code",
   "execution_count": 21,
   "metadata": {},
   "outputs": [
    {
     "data": {
      "text/plain": [
       "JOURNAL SQUARE_PTH03_R552_00-00-09     3\n",
       "SIMPSON ST_R317_R408_01-00-00          2\n",
       "PATH NEW WTC_PTH22_R540_00-01-00       2\n",
       "BRONX PARK EAST_R326_R389_00-00-02     2\n",
       "AVENUE U_D015_R396_00-06-00            1\n",
       "47-50 STS ROCK_N501_R020_01-06-01      1\n",
       "JOURNAL SQUARE_PTH03_R552_00-01-02     1\n",
       "KINGSBRIDGE RD_N221_R155_00-00-00      1\n",
       "TREMONT AV_N213_R154_00-06-01          1\n",
       "CANAL ST_A046_R463_00-06-05            1\n",
       "CITY / BUS_PTH07_R550_00-00-04         1\n",
       "36 AV_R511_R091_00-00-00               1\n",
       "PATH NEW WTC_PTH22_R540_00-03-02       1\n",
       "THIRTY THIRD ST_PTH17_R541_01-00-07    1\n",
       "NEWARK HM HE_PTH20_R549_03-00-00       1\n",
       "NEWARK BM BW_PTH18_R549_01-01-01       1\n",
       "BROOKLYN BRIDGE_R210_R044_00-03-03     1\n",
       "CANAL ST_R119_R320_00-00-02            1\n",
       "BRONX PARK EAST_R326_R389_00-00-01     1\n",
       "FLUSHING-MAIN_R533_R055_00-03-07       1\n",
       "68ST-HUNTER CO_R246_R177_00-03-06      1\n",
       "EXCHANGE PLACE_PTH05_R543_00-04-04     1\n",
       "JFK JAMAICA CT1_JFK03_R536_00-00-05    1\n",
       "30 AV_R513_R093_00-03-01               1\n",
       "190 ST_N006A_R280_00-00-00             1\n",
       "34 ST-PENN STA_N071_R013_00-06-00      1\n",
       "TWENTY THIRD ST_PTH12_R542_00-00-00    1\n",
       "30 AV_R513_R093_00-03-02               1\n",
       "GRD CNTRL-42 ST_R237B_R047_01-00-02    1\n",
       "BURNSIDE AV_R287_R244_00-05-00         1\n",
       "PATH NEW WTC_PTH22_R540_00-00-02       1\n",
       "LEXINGTON AV/53_N305A_R016_00-00-02    1\n",
       "Name: turnstile_id, dtype: int64"
      ]
     },
     "execution_count": 21,
     "metadata": {},
     "output_type": "execute_result"
    }
   ],
   "source": [
    "by_turnstile_date[by_turnstile_date['ENTRIES']>4000].turnstile_id.value_counts()"
   ]
  },
  {
   "cell_type": "markdown",
   "metadata": {},
   "source": [
    "#\n",
    "#identify outlier values of 'ENTRIES' for Turnstile/Date"
   ]
  },
  {
   "cell_type": "code",
   "execution_count": 22,
   "metadata": {},
   "outputs": [
    {
     "data": {
      "text/plain": [
       "{'190 ST_N006A_R280_00-00-00': 1,\n",
       " '30 AV_R513_R093_00-03-01': 1,\n",
       " '30 AV_R513_R093_00-03-02': 1,\n",
       " '34 ST-PENN STA_N071_R013_00-06-00': 1,\n",
       " '36 AV_R511_R091_00-00-00': 1,\n",
       " '47-50 STS ROCK_N501_R020_01-06-01': 1,\n",
       " '68ST-HUNTER CO_R246_R177_00-03-06': 1,\n",
       " 'AVENUE U_D015_R396_00-06-00': 1,\n",
       " 'BRONX PARK EAST_R326_R389_00-00-01': 1,\n",
       " 'BROOKLYN BRIDGE_R210_R044_00-03-03': 1,\n",
       " 'BURNSIDE AV_R287_R244_00-05-00': 1,\n",
       " 'CANAL ST_A046_R463_00-06-05': 1,\n",
       " 'CANAL ST_R119_R320_00-00-02': 1,\n",
       " 'CITY / BUS_PTH07_R550_00-00-04': 1,\n",
       " 'EXCHANGE PLACE_PTH05_R543_00-04-04': 1,\n",
       " 'FLUSHING-MAIN_R533_R055_00-03-07': 1,\n",
       " 'GRD CNTRL-42 ST_R237B_R047_01-00-02': 1,\n",
       " 'JFK JAMAICA CT1_JFK03_R536_00-00-05': 1,\n",
       " 'JOURNAL SQUARE_PTH03_R552_00-01-02': 1,\n",
       " 'KINGSBRIDGE RD_N221_R155_00-00-00': 1,\n",
       " 'LEXINGTON AV/53_N305A_R016_00-00-02': 1,\n",
       " 'NEWARK BM BW_PTH18_R549_01-01-01': 1,\n",
       " 'NEWARK HM HE_PTH20_R549_03-00-00': 1,\n",
       " 'PATH NEW WTC_PTH22_R540_00-00-02': 1,\n",
       " 'PATH NEW WTC_PTH22_R540_00-03-02': 1,\n",
       " 'THIRTY THIRD ST_PTH17_R541_01-00-07': 1,\n",
       " 'TREMONT AV_N213_R154_00-06-01': 1,\n",
       " 'TWENTY THIRD ST_PTH12_R542_00-00-00': 1}"
      ]
     },
     "execution_count": 22,
     "metadata": {},
     "output_type": "execute_result"
    }
   ],
   "source": [
    "high_turnstile_count = dict(by_turnstile_date[by_turnstile_date['ENTRIES']>4000].turnstile_id.value_counts())\n",
    "high_turnstile_count = {key : val for key,val in high_turnstile_count.items() if val<2}\n",
    "high_turnstile_count"
   ]
  },
  {
   "cell_type": "code",
   "execution_count": 23,
   "metadata": {},
   "outputs": [
    {
     "data": {
      "text/plain": [
       "count    3.285550e+05\n",
       "mean     4.968493e+03\n",
       "std      1.004774e+06\n",
       "min      0.000000e+00\n",
       "25%      6.300000e+01\n",
       "50%      2.110000e+02\n",
       "75%      4.410000e+02\n",
       "max      3.019948e+08\n",
       "Name: ENTRIES, dtype: float64"
      ]
     },
     "execution_count": 23,
     "metadata": {},
     "output_type": "execute_result"
    }
   ],
   "source": [
    "#identify outlier values of 'ENTRIES' for turnstile/Date pairs and replace them with weekly averages for the turnstile\n",
    "avg_turnstile_per_day = by_turnstile_date.groupby(by=['STATION','turnstile_id','WEEK'], as_index=False).mean().drop(columns='EXITS')\n",
    "avg_turnstile_per_day.rename(columns={'ENTRIES':'AVG_REPLACEMENT'}, inplace=True)\n",
    "\n",
    "by_turnstile_date_anomalies = by_turnstile_date[(by_turnstile_date['ENTRIES']>5000) & (by_turnstile_date['turnstile_id'].isin(high_turnstile_count.keys()))]\n",
    "by_turnstile_date_anomalies = by_turnstile_date_anomalies.merge(right=avg_turnstile_per_day, how='left')\n",
    "by_turnstile_date_anomalies['ENTRIES'] = by_turnstile_date_anomalies['AVG_REPLACEMENT']\n",
    "by_turnstile_date_anomalies.drop(columns=['AVG_REPLACEMENT'], inplace=True)\n",
    "\n",
    "by_turnstile_date = pd.concat([by_turnstile_date[(by_turnstile_date['ENTRIES']<=30000) | ~(by_turnstile_date['turnstile_id'].isin(high_turnstile_count.keys()))], by_turnstile_date_anomalies])\n",
    "\n",
    "by_turnstile_date.ENTRIES.describe()"
   ]
  },
  {
   "cell_type": "code",
   "execution_count": 24,
   "metadata": {},
   "outputs": [
    {
     "data": {
      "text/plain": [
       "count    2.621000e+04\n",
       "mean     6.228246e+04\n",
       "std      3.557157e+06\n",
       "min      0.000000e+00\n",
       "25%      7.400000e+02\n",
       "50%      1.642500e+03\n",
       "75%      3.761750e+03\n",
       "max      3.020204e+08\n",
       "Name: ENTRIES, dtype: float64"
      ]
     },
     "execution_count": 24,
     "metadata": {},
     "output_type": "execute_result"
    }
   ],
   "source": [
    "by_station_date = by_turnstile_date.groupby(by=['STATION','WEEK', 'DATE'], as_index=False).sum()\n",
    "by_station_date.ENTRIES.describe()"
   ]
  },
  {
   "cell_type": "code",
   "execution_count": 25,
   "metadata": {},
   "outputs": [
    {
     "data": {
      "text/plain": [
       "GRD CNTRL-42 ST    50\n",
       "TIMES SQ-42 ST     49\n",
       "34 ST-HERALD SQ    49\n",
       "34 ST-PENN STA     49\n",
       "23 ST              49\n",
       "FULTON ST          48\n",
       "47-50 STS ROCK     48\n",
       "CHAMBERS ST        35\n",
       "59 ST COLUMBUS     31\n",
       "PATH NEW WTC       30\n",
       "59 ST              18\n",
       "14 ST-UNION SQ     12\n",
       "BRONX PARK EAST     3\n",
       "JOURNAL SQUARE      3\n",
       "SIMPSON ST          2\n",
       "CANAL ST            2\n",
       "EXCHANGE PLACE      1\n",
       "JFK JAMAICA CT1     1\n",
       "FLUSHING-MAIN       1\n",
       "TREMONT AV          1\n",
       "AVENUE U            1\n",
       "30 AV               1\n",
       "TWENTY THIRD ST     1\n",
       "KINGSBRIDGE RD      1\n",
       "36 AV               1\n",
       "LEXINGTON AV/53     1\n",
       "190 ST              1\n",
       "BROOKLYN BRIDGE     1\n",
       "BURNSIDE AV         1\n",
       "Name: STATION, dtype: int64"
      ]
     },
     "execution_count": 25,
     "metadata": {},
     "output_type": "execute_result"
    }
   ],
   "source": [
    "#stations with 1 really high day's entries probably are showing data anomalies.\n",
    "by_station_date[by_station_date['ENTRIES']>30000].STATION.value_counts()"
   ]
  },
  {
   "cell_type": "code",
   "execution_count": 26,
   "metadata": {},
   "outputs": [
    {
     "data": {
      "text/plain": [
       "{'190 ST': 1,\n",
       " '30 AV': 1,\n",
       " '36 AV': 1,\n",
       " 'AVENUE U': 1,\n",
       " 'BROOKLYN BRIDGE': 1,\n",
       " 'BURNSIDE AV': 1,\n",
       " 'EXCHANGE PLACE': 1,\n",
       " 'FLUSHING-MAIN': 1,\n",
       " 'JFK JAMAICA CT1': 1,\n",
       " 'KINGSBRIDGE RD': 1,\n",
       " 'LEXINGTON AV/53': 1,\n",
       " 'TREMONT AV': 1,\n",
       " 'TWENTY THIRD ST': 1}"
      ]
     },
     "execution_count": 26,
     "metadata": {},
     "output_type": "execute_result"
    }
   ],
   "source": [
    "#identify outlier values of 'ENTRIES' for Station/Date pairs and replace them with weekly averages for the station\n",
    "high_day_count = dict(by_station_date[by_station_date['ENTRIES']>30000].STATION.value_counts())\n",
    "high_day_count = {key : val for key,val in high_day_count.items() if val<2}\n",
    "high_day_count"
   ]
  },
  {
   "cell_type": "code",
   "execution_count": 27,
   "metadata": {},
   "outputs": [
    {
     "data": {
      "text/plain": [
       "count    2.621000e+04\n",
       "mean     5.098164e+04\n",
       "std      3.270387e+06\n",
       "min      0.000000e+00\n",
       "25%      7.400000e+02\n",
       "50%      1.642500e+03\n",
       "75%      3.761750e+03\n",
       "max      3.020204e+08\n",
       "Name: ENTRIES, dtype: float64"
      ]
     },
     "execution_count": 27,
     "metadata": {},
     "output_type": "execute_result"
    }
   ],
   "source": [
    "#identify outlier values of 'ENTRIES' for Station/Date pairs and replace them with weekly averages for the station\n",
    "avg_day_per_week = by_station_date.groupby(by=['STATION','WEEK'], as_index=False).mean().drop(columns='EXITS')\n",
    "avg_day_per_week.rename(columns={'ENTRIES':'AVG_REPLACEMENT'}, inplace=True)\n",
    "\n",
    "by_station_date_anomalies = by_station_date[(by_station_date['ENTRIES']>30000) & (by_station_date['STATION'].isin(high_day_count.keys()))]\n",
    "by_station_date_anomalies = by_station_date_anomalies.merge(right=avg_day_per_week, how='left')\n",
    "by_station_date_anomalies['ENTRIES'] = by_station_date_anomalies['AVG_REPLACEMENT']\n",
    "by_station_date_anomalies.drop(columns=['AVG_REPLACEMENT'], inplace=True)\n",
    "\n",
    "by_station_date = pd.concat([by_station_date[(by_station_date['ENTRIES']<=30000) | ~(by_station_date['STATION'].isin(high_day_count.keys()))], by_station_date_anomalies])\n",
    "\n",
    "by_station_date.ENTRIES.describe()"
   ]
  },
  {
   "cell_type": "code",
   "execution_count": 28,
   "metadata": {},
   "outputs": [
    {
     "data": {
      "text/html": [
       "<div>\n",
       "<style scoped>\n",
       "    .dataframe tbody tr th:only-of-type {\n",
       "        vertical-align: middle;\n",
       "    }\n",
       "\n",
       "    .dataframe tbody tr th {\n",
       "        vertical-align: top;\n",
       "    }\n",
       "\n",
       "    .dataframe thead th {\n",
       "        text-align: right;\n",
       "    }\n",
       "</style>\n",
       "<table border=\"1\" class=\"dataframe\">\n",
       "  <thead>\n",
       "    <tr style=\"text-align: right;\">\n",
       "      <th></th>\n",
       "      <th>STATION</th>\n",
       "      <th>WEEK</th>\n",
       "      <th>DATE</th>\n",
       "      <th>ENTRIES</th>\n",
       "      <th>EXITS</th>\n",
       "    </tr>\n",
       "  </thead>\n",
       "  <tbody>\n",
       "    <tr>\n",
       "      <th>0</th>\n",
       "      <td>1 AV</td>\n",
       "      <td>1</td>\n",
       "      <td>04/21/2018</td>\n",
       "      <td>5443.0</td>\n",
       "      <td>6501</td>\n",
       "    </tr>\n",
       "    <tr>\n",
       "      <th>1</th>\n",
       "      <td>1 AV</td>\n",
       "      <td>1</td>\n",
       "      <td>04/22/2018</td>\n",
       "      <td>4431.0</td>\n",
       "      <td>5024</td>\n",
       "    </tr>\n",
       "    <tr>\n",
       "      <th>2</th>\n",
       "      <td>1 AV</td>\n",
       "      <td>1</td>\n",
       "      <td>04/23/2018</td>\n",
       "      <td>6636.0</td>\n",
       "      <td>6370</td>\n",
       "    </tr>\n",
       "    <tr>\n",
       "      <th>3</th>\n",
       "      <td>1 AV</td>\n",
       "      <td>1</td>\n",
       "      <td>04/24/2018</td>\n",
       "      <td>6958.0</td>\n",
       "      <td>6691</td>\n",
       "    </tr>\n",
       "    <tr>\n",
       "      <th>4</th>\n",
       "      <td>1 AV</td>\n",
       "      <td>1</td>\n",
       "      <td>04/25/2018</td>\n",
       "      <td>6779.0</td>\n",
       "      <td>6832</td>\n",
       "    </tr>\n",
       "  </tbody>\n",
       "</table>\n",
       "</div>"
      ],
      "text/plain": [
       "  STATION  WEEK        DATE  ENTRIES  EXITS\n",
       "0    1 AV     1  04/21/2018   5443.0   6501\n",
       "1    1 AV     1  04/22/2018   4431.0   5024\n",
       "2    1 AV     1  04/23/2018   6636.0   6370\n",
       "3    1 AV     1  04/24/2018   6958.0   6691\n",
       "4    1 AV     1  04/25/2018   6779.0   6832"
      ]
     },
     "execution_count": 28,
     "metadata": {},
     "output_type": "execute_result"
    }
   ],
   "source": [
    "by_station_date.head()"
   ]
  },
  {
   "cell_type": "code",
   "execution_count": 29,
   "metadata": {},
   "outputs": [
    {
     "data": {
      "text/plain": [
       "array([7, 6, 3, 5, 4])"
      ]
     },
     "execution_count": 29,
     "metadata": {},
     "output_type": "execute_result"
    }
   ],
   "source": [
    "by_station_date.groupby(by=['STATION','WEEK'], as_index=False).count().ENTRIES.unique()"
   ]
  },
  {
   "cell_type": "markdown",
   "metadata": {},
   "source": [
    "#drop station/week combos with fewer than 7 days per week observed"
   ]
  },
  {
   "cell_type": "code",
   "execution_count": 30,
   "metadata": {},
   "outputs": [],
   "source": [
    "station_date_counts = by_station_date.groupby(by=['STATION','WEEK'], as_index=False).count()\n",
    "station_date_counts = station_date_counts[station_date_counts.ENTRIES < 7]\n",
    "station_date_counts.drop(columns=['ENTRIES','EXITS','DATE'], inplace=True)\n",
    "by_station_date = by_station_date.merge(right=station_date_counts, on=['STATION','WEEK'], how='left', indicator = True)\n",
    "by_station_date = by_station_date[by_station_date._merge == 'left_only']\n",
    "by_station_date.drop(columns=['_merge'], inplace=True)"
   ]
  },
  {
   "cell_type": "code",
   "execution_count": 31,
   "metadata": {},
   "outputs": [
    {
     "data": {
      "text/plain": [
       "count    2.613800e+04\n",
       "mean     5.099010e+04\n",
       "std      3.274855e+06\n",
       "min      0.000000e+00\n",
       "25%      7.410000e+02\n",
       "50%      1.647000e+03\n",
       "75%      3.770000e+03\n",
       "max      3.020204e+08\n",
       "Name: ENTRIES, dtype: float64"
      ]
     },
     "execution_count": 31,
     "metadata": {},
     "output_type": "execute_result"
    }
   ],
   "source": [
    "by_station_date.ENTRIES.describe()"
   ]
  },
  {
   "cell_type": "code",
   "execution_count": 32,
   "metadata": {},
   "outputs": [],
   "source": [
    "with open('by_station_date_cleaned.pickle','wb') as f:\n",
    "    pickle.dump(by_station_date,f)"
   ]
  },
  {
   "cell_type": "code",
   "execution_count": 33,
   "metadata": {
    "collapsed": true
   },
   "outputs": [
    {
     "data": {
      "text/html": [
       "<div>\n",
       "<style scoped>\n",
       "    .dataframe tbody tr th:only-of-type {\n",
       "        vertical-align: middle;\n",
       "    }\n",
       "\n",
       "    .dataframe tbody tr th {\n",
       "        vertical-align: top;\n",
       "    }\n",
       "\n",
       "    .dataframe thead th {\n",
       "        text-align: right;\n",
       "    }\n",
       "</style>\n",
       "<table border=\"1\" class=\"dataframe\">\n",
       "  <thead>\n",
       "    <tr style=\"text-align: right;\">\n",
       "      <th></th>\n",
       "      <th>STATION</th>\n",
       "      <th>WEEK</th>\n",
       "      <th>ENTRIES</th>\n",
       "    </tr>\n",
       "  </thead>\n",
       "  <tbody>\n",
       "    <tr>\n",
       "      <th>0</th>\n",
       "      <td>1 AV</td>\n",
       "      <td>1</td>\n",
       "      <td>44491.0</td>\n",
       "    </tr>\n",
       "    <tr>\n",
       "      <th>1</th>\n",
       "      <td>1 AV</td>\n",
       "      <td>2</td>\n",
       "      <td>45225.0</td>\n",
       "    </tr>\n",
       "    <tr>\n",
       "      <th>2</th>\n",
       "      <td>1 AV</td>\n",
       "      <td>3</td>\n",
       "      <td>44624.0</td>\n",
       "    </tr>\n",
       "    <tr>\n",
       "      <th>3</th>\n",
       "      <td>1 AV</td>\n",
       "      <td>4</td>\n",
       "      <td>43092.0</td>\n",
       "    </tr>\n",
       "    <tr>\n",
       "      <th>4</th>\n",
       "      <td>1 AV</td>\n",
       "      <td>5</td>\n",
       "      <td>44693.0</td>\n",
       "    </tr>\n",
       "  </tbody>\n",
       "</table>\n",
       "</div>"
      ],
      "text/plain": [
       "  STATION  WEEK  ENTRIES\n",
       "0    1 AV     1  44491.0\n",
       "1    1 AV     2  45225.0\n",
       "2    1 AV     3  44624.0\n",
       "3    1 AV     4  43092.0\n",
       "4    1 AV     5  44693.0"
      ]
     },
     "execution_count": 33,
     "metadata": {},
     "output_type": "execute_result"
    }
   ],
   "source": [
    "by_station_week =  by_station_date.groupby(by=['STATION', 'WEEK'], as_index=False).sum().drop(columns=['EXITS'])\n",
    "by_station_week.head()"
   ]
  },
  {
   "cell_type": "code",
   "execution_count": 34,
   "metadata": {},
   "outputs": [
    {
     "data": {
      "text/plain": [
       "count    3.734000e+03\n",
       "mean     3.569307e+05\n",
       "std      8.660922e+06\n",
       "min      0.000000e+00\n",
       "25%      5.599250e+03\n",
       "50%      1.223050e+04\n",
       "75%      2.766100e+04\n",
       "max      3.021631e+08\n",
       "Name: ENTRIES, dtype: float64"
      ]
     },
     "execution_count": 34,
     "metadata": {},
     "output_type": "execute_result"
    }
   ],
   "source": [
    "by_station_week.ENTRIES.describe()"
   ]
  },
  {
   "cell_type": "code",
   "execution_count": 35,
   "metadata": {},
   "outputs": [
    {
     "data": {
      "text/html": [
       "<div>\n",
       "<style scoped>\n",
       "    .dataframe tbody tr th:only-of-type {\n",
       "        vertical-align: middle;\n",
       "    }\n",
       "\n",
       "    .dataframe tbody tr th {\n",
       "        vertical-align: top;\n",
       "    }\n",
       "\n",
       "    .dataframe thead th {\n",
       "        text-align: right;\n",
       "    }\n",
       "</style>\n",
       "<table border=\"1\" class=\"dataframe\">\n",
       "  <thead>\n",
       "    <tr style=\"text-align: right;\">\n",
       "      <th></th>\n",
       "      <th>STATION</th>\n",
       "      <th>WEEK</th>\n",
       "      <th>ENTRIES</th>\n",
       "    </tr>\n",
       "  </thead>\n",
       "  <tbody>\n",
       "    <tr>\n",
       "      <th>356</th>\n",
       "      <td>190 ST</td>\n",
       "      <td>8</td>\n",
       "      <td>2.922529e+07</td>\n",
       "    </tr>\n",
       "    <tr>\n",
       "      <th>1634</th>\n",
       "      <td>BRONX PARK EAST</td>\n",
       "      <td>6</td>\n",
       "      <td>1.504298e+08</td>\n",
       "    </tr>\n",
       "    <tr>\n",
       "      <th>1635</th>\n",
       "      <td>BRONX PARK EAST</td>\n",
       "      <td>7</td>\n",
       "      <td>5.114118e+07</td>\n",
       "    </tr>\n",
       "    <tr>\n",
       "      <th>1638</th>\n",
       "      <td>BRONX PARK EAST</td>\n",
       "      <td>10</td>\n",
       "      <td>1.408625e+08</td>\n",
       "    </tr>\n",
       "    <tr>\n",
       "      <th>1679</th>\n",
       "      <td>BURNSIDE AV</td>\n",
       "      <td>1</td>\n",
       "      <td>2.400488e+06</td>\n",
       "    </tr>\n",
       "    <tr>\n",
       "      <th>1707</th>\n",
       "      <td>CANAL ST</td>\n",
       "      <td>9</td>\n",
       "      <td>3.021631e+08</td>\n",
       "    </tr>\n",
       "    <tr>\n",
       "      <th>2300</th>\n",
       "      <td>GRD CNTRL-42 ST</td>\n",
       "      <td>5</td>\n",
       "      <td>6.130219e+05</td>\n",
       "    </tr>\n",
       "    <tr>\n",
       "      <th>2550</th>\n",
       "      <td>JOURNAL SQUARE</td>\n",
       "      <td>5</td>\n",
       "      <td>2.619001e+06</td>\n",
       "    </tr>\n",
       "    <tr>\n",
       "      <th>2605</th>\n",
       "      <td>KINGSBRIDGE RD</td>\n",
       "      <td>10</td>\n",
       "      <td>1.434453e+07</td>\n",
       "    </tr>\n",
       "    <tr>\n",
       "      <th>3350</th>\n",
       "      <td>SIMPSON ST</td>\n",
       "      <td>5</td>\n",
       "      <td>2.673926e+08</td>\n",
       "    </tr>\n",
       "    <tr>\n",
       "      <th>3352</th>\n",
       "      <td>SIMPSON ST</td>\n",
       "      <td>7</td>\n",
       "      <td>2.674294e+08</td>\n",
       "    </tr>\n",
       "    <tr>\n",
       "      <th>3513</th>\n",
       "      <td>TREMONT AV</td>\n",
       "      <td>8</td>\n",
       "      <td>2.055308e+06</td>\n",
       "    </tr>\n",
       "  </tbody>\n",
       "</table>\n",
       "</div>"
      ],
      "text/plain": [
       "              STATION  WEEK       ENTRIES\n",
       "356            190 ST     8  2.922529e+07\n",
       "1634  BRONX PARK EAST     6  1.504298e+08\n",
       "1635  BRONX PARK EAST     7  5.114118e+07\n",
       "1638  BRONX PARK EAST    10  1.408625e+08\n",
       "1679      BURNSIDE AV     1  2.400488e+06\n",
       "1707         CANAL ST     9  3.021631e+08\n",
       "2300  GRD CNTRL-42 ST     5  6.130219e+05\n",
       "2550   JOURNAL SQUARE     5  2.619001e+06\n",
       "2605   KINGSBRIDGE RD    10  1.434453e+07\n",
       "3350       SIMPSON ST     5  2.673926e+08\n",
       "3352       SIMPSON ST     7  2.674294e+08\n",
       "3513       TREMONT AV     8  2.055308e+06"
      ]
     },
     "execution_count": 35,
     "metadata": {},
     "output_type": "execute_result"
    }
   ],
   "source": [
    "by_station_week[by_station_week['ENTRIES']>500000]"
   ]
  },
  {
   "cell_type": "code",
   "execution_count": 36,
   "metadata": {},
   "outputs": [],
   "source": [
    "#get rid of anomalously high weeks\n",
    "by_station_week = by_station_week[by_station_week['ENTRIES']<500000]"
   ]
  },
  {
   "cell_type": "code",
   "execution_count": 37,
   "metadata": {},
   "outputs": [
    {
     "data": {
      "text/html": [
       "<div>\n",
       "<style scoped>\n",
       "    .dataframe tbody tr th:only-of-type {\n",
       "        vertical-align: middle;\n",
       "    }\n",
       "\n",
       "    .dataframe tbody tr th {\n",
       "        vertical-align: top;\n",
       "    }\n",
       "\n",
       "    .dataframe thead th {\n",
       "        text-align: right;\n",
       "    }\n",
       "</style>\n",
       "<table border=\"1\" class=\"dataframe\">\n",
       "  <thead>\n",
       "    <tr style=\"text-align: right;\">\n",
       "      <th></th>\n",
       "      <th>STATION</th>\n",
       "      <th>ENTRIES</th>\n",
       "      <th>mean_percentage</th>\n",
       "    </tr>\n",
       "  </thead>\n",
       "  <tbody>\n",
       "    <tr>\n",
       "      <th>58</th>\n",
       "      <td>34 ST-HERALD SQ</td>\n",
       "      <td>309020.600000</td>\n",
       "      <td>3.002723</td>\n",
       "    </tr>\n",
       "    <tr>\n",
       "      <th>232</th>\n",
       "      <td>GRD CNTRL-42 ST</td>\n",
       "      <td>274303.777778</td>\n",
       "      <td>2.665383</td>\n",
       "    </tr>\n",
       "    <tr>\n",
       "      <th>60</th>\n",
       "      <td>34 ST-PENN STA</td>\n",
       "      <td>271529.728571</td>\n",
       "      <td>2.638428</td>\n",
       "    </tr>\n",
       "    <tr>\n",
       "      <th>45</th>\n",
       "      <td>23 ST</td>\n",
       "      <td>260472.300000</td>\n",
       "      <td>2.530984</td>\n",
       "    </tr>\n",
       "    <tr>\n",
       "      <th>352</th>\n",
       "      <td>TIMES SQ-42 ST</td>\n",
       "      <td>256701.500000</td>\n",
       "      <td>2.494343</td>\n",
       "    </tr>\n",
       "    <tr>\n",
       "      <th>225</th>\n",
       "      <td>FULTON ST</td>\n",
       "      <td>195180.400000</td>\n",
       "      <td>1.896549</td>\n",
       "    </tr>\n",
       "    <tr>\n",
       "      <th>71</th>\n",
       "      <td>47-50 STS ROCK</td>\n",
       "      <td>192684.514286</td>\n",
       "      <td>1.872297</td>\n",
       "    </tr>\n",
       "    <tr>\n",
       "      <th>14</th>\n",
       "      <td>14 ST-UNION SQ</td>\n",
       "      <td>181547.400000</td>\n",
       "      <td>1.764078</td>\n",
       "    </tr>\n",
       "    <tr>\n",
       "      <th>85</th>\n",
       "      <td>59 ST COLUMBUS</td>\n",
       "      <td>179486.500000</td>\n",
       "      <td>1.744053</td>\n",
       "    </tr>\n",
       "    <tr>\n",
       "      <th>314</th>\n",
       "      <td>PATH NEW WTC</td>\n",
       "      <td>177153.585714</td>\n",
       "      <td>1.721384</td>\n",
       "    </tr>\n",
       "  </tbody>\n",
       "</table>\n",
       "</div>"
      ],
      "text/plain": [
       "             STATION        ENTRIES  mean_percentage\n",
       "58   34 ST-HERALD SQ  309020.600000         3.002723\n",
       "232  GRD CNTRL-42 ST  274303.777778         2.665383\n",
       "60    34 ST-PENN STA  271529.728571         2.638428\n",
       "45             23 ST  260472.300000         2.530984\n",
       "352   TIMES SQ-42 ST  256701.500000         2.494343\n",
       "225        FULTON ST  195180.400000         1.896549\n",
       "71    47-50 STS ROCK  192684.514286         1.872297\n",
       "14    14 ST-UNION SQ  181547.400000         1.764078\n",
       "85    59 ST COLUMBUS  179486.500000         1.744053\n",
       "314     PATH NEW WTC  177153.585714         1.721384"
      ]
     },
     "execution_count": 37,
     "metadata": {},
     "output_type": "execute_result"
    }
   ],
   "source": [
    "weekly_avg_by_station = by_station_week.groupby(by=\"STATION\", as_index=False).mean().drop(columns=['WEEK'])\n",
    "weekly_avg_by_station[\"mean_percentage\"] = (weekly_avg_by_station[\"ENTRIES\"]/weekly_avg_by_station[\"ENTRIES\"].sum())*100\n",
    "weekly_avg_by_station = weekly_avg_by_station.sort_values(by='ENTRIES', ascending=False)\n",
    "weekly_avg_by_station.head(10)"
   ]
  },
  {
   "cell_type": "code",
   "execution_count": 38,
   "metadata": {
    "collapsed": true
   },
   "outputs": [],
   "source": [
    "with open('weekly_avg_by_station_clean.pickle', 'wb') as to_write:\n",
    "    pickle.dump(weekly_avg_by_station, to_write)"
   ]
  },
  {
   "cell_type": "code",
   "execution_count": 39,
   "metadata": {
    "collapsed": true
   },
   "outputs": [
    {
     "data": {
      "text/html": [
       "<div>\n",
       "<style scoped>\n",
       "    .dataframe tbody tr th:only-of-type {\n",
       "        vertical-align: middle;\n",
       "    }\n",
       "\n",
       "    .dataframe tbody tr th {\n",
       "        vertical-align: top;\n",
       "    }\n",
       "\n",
       "    .dataframe thead th {\n",
       "        text-align: right;\n",
       "    }\n",
       "</style>\n",
       "<table border=\"1\" class=\"dataframe\">\n",
       "  <thead>\n",
       "    <tr style=\"text-align: right;\">\n",
       "      <th></th>\n",
       "      <th>STATION</th>\n",
       "      <th>ENTRIES</th>\n",
       "      <th>mean_percentage</th>\n",
       "    </tr>\n",
       "  </thead>\n",
       "  <tbody>\n",
       "    <tr>\n",
       "      <th>58</th>\n",
       "      <td>34 ST-HERALD SQ</td>\n",
       "      <td>309020.600000</td>\n",
       "      <td>3.002723</td>\n",
       "    </tr>\n",
       "    <tr>\n",
       "      <th>232</th>\n",
       "      <td>GRD CNTRL-42 ST</td>\n",
       "      <td>274303.777778</td>\n",
       "      <td>2.665383</td>\n",
       "    </tr>\n",
       "    <tr>\n",
       "      <th>60</th>\n",
       "      <td>34 ST-PENN STA</td>\n",
       "      <td>271529.728571</td>\n",
       "      <td>2.638428</td>\n",
       "    </tr>\n",
       "    <tr>\n",
       "      <th>45</th>\n",
       "      <td>23 ST</td>\n",
       "      <td>260472.300000</td>\n",
       "      <td>2.530984</td>\n",
       "    </tr>\n",
       "    <tr>\n",
       "      <th>352</th>\n",
       "      <td>TIMES SQ-42 ST</td>\n",
       "      <td>256701.500000</td>\n",
       "      <td>2.494343</td>\n",
       "    </tr>\n",
       "    <tr>\n",
       "      <th>225</th>\n",
       "      <td>FULTON ST</td>\n",
       "      <td>195180.400000</td>\n",
       "      <td>1.896549</td>\n",
       "    </tr>\n",
       "    <tr>\n",
       "      <th>71</th>\n",
       "      <td>47-50 STS ROCK</td>\n",
       "      <td>192684.514286</td>\n",
       "      <td>1.872297</td>\n",
       "    </tr>\n",
       "    <tr>\n",
       "      <th>14</th>\n",
       "      <td>14 ST-UNION SQ</td>\n",
       "      <td>181547.400000</td>\n",
       "      <td>1.764078</td>\n",
       "    </tr>\n",
       "    <tr>\n",
       "      <th>85</th>\n",
       "      <td>59 ST COLUMBUS</td>\n",
       "      <td>179486.500000</td>\n",
       "      <td>1.744053</td>\n",
       "    </tr>\n",
       "    <tr>\n",
       "      <th>314</th>\n",
       "      <td>PATH NEW WTC</td>\n",
       "      <td>177153.585714</td>\n",
       "      <td>1.721384</td>\n",
       "    </tr>\n",
       "  </tbody>\n",
       "</table>\n",
       "</div>"
      ],
      "text/plain": [
       "             STATION        ENTRIES  mean_percentage\n",
       "58   34 ST-HERALD SQ  309020.600000         3.002723\n",
       "232  GRD CNTRL-42 ST  274303.777778         2.665383\n",
       "60    34 ST-PENN STA  271529.728571         2.638428\n",
       "45             23 ST  260472.300000         2.530984\n",
       "352   TIMES SQ-42 ST  256701.500000         2.494343\n",
       "225        FULTON ST  195180.400000         1.896549\n",
       "71    47-50 STS ROCK  192684.514286         1.872297\n",
       "14    14 ST-UNION SQ  181547.400000         1.764078\n",
       "85    59 ST COLUMBUS  179486.500000         1.744053\n",
       "314     PATH NEW WTC  177153.585714         1.721384"
      ]
     },
     "execution_count": 39,
     "metadata": {},
     "output_type": "execute_result"
    }
   ],
   "source": [
    "weekly_avg_by_station.head(10)"
   ]
  },
  {
   "cell_type": "code",
   "execution_count": 40,
   "metadata": {},
   "outputs": [
    {
     "data": {
      "text/plain": [
       "22.33022098687372"
      ]
     },
     "execution_count": 40,
     "metadata": {},
     "output_type": "execute_result"
    }
   ],
   "source": [
    "weekly_avg_by_station.head(10).mean_percentage.sum()"
   ]
  },
  {
   "cell_type": "code",
   "execution_count": null,
   "metadata": {},
   "outputs": [],
   "source": []
  },
  {
   "cell_type": "code",
   "execution_count": null,
   "metadata": {},
   "outputs": [],
   "source": []
  },
  {
   "cell_type": "code",
   "execution_count": null,
   "metadata": {},
   "outputs": [],
   "source": []
  },
  {
   "cell_type": "code",
   "execution_count": null,
   "metadata": {},
   "outputs": [],
   "source": []
  },
  {
   "cell_type": "code",
   "execution_count": null,
   "metadata": {},
   "outputs": [],
   "source": []
  },
  {
   "cell_type": "code",
   "execution_count": null,
   "metadata": {},
   "outputs": [],
   "source": []
  }
 ],
 "metadata": {
  "kernelspec": {
   "display_name": "Python 3",
   "language": "python",
   "name": "python3"
  },
  "language_info": {
   "codemirror_mode": {
    "name": "ipython",
    "version": 3
   },
   "file_extension": ".py",
   "mimetype": "text/x-python",
   "name": "python",
   "nbconvert_exporter": "python",
   "pygments_lexer": "ipython3",
   "version": "3.6.6"
  }
 },
 "nbformat": 4,
 "nbformat_minor": 2
}
