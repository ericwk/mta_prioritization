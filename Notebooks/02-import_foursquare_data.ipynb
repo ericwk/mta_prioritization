{
 "cells": [
  {
   "cell_type": "code",
   "execution_count": 2,
   "metadata": {},
   "outputs": [],
   "source": [
    "import pandas as pd"
   ]
  },
  {
   "cell_type": "code",
   "execution_count": 3,
   "metadata": {},
   "outputs": [],
   "source": [
    "fsq_data = pd.read_csv('foursquare_2014_NYC.csv')"
   ]
  },
  {
   "cell_type": "code",
   "execution_count": 4,
   "metadata": {},
   "outputs": [
    {
     "name": "stdout",
     "output_type": "stream",
     "text": [
      "<class 'pandas.core.frame.DataFrame'>\n",
      "RangeIndex: 227428 entries, 0 to 227427\n",
      "Data columns (total 8 columns):\n",
      "userId             227428 non-null int64\n",
      "venueId            227428 non-null object\n",
      "venueCategoryId    227428 non-null object\n",
      "venueCategory      227428 non-null object\n",
      "latitude           227428 non-null float64\n",
      "longitude          227428 non-null float64\n",
      "timezoneOffset     227428 non-null int64\n",
      "utcTimestamp       227428 non-null object\n",
      "dtypes: float64(2), int64(2), object(4)\n",
      "memory usage: 13.9+ MB\n"
     ]
    }
   ],
   "source": [
    "fsq_data.info()"
   ]
  },
  {
   "cell_type": "code",
   "execution_count": 5,
   "metadata": {},
   "outputs": [
    {
     "data": {
      "text/html": [
       "<div>\n",
       "<style scoped>\n",
       "    .dataframe tbody tr th:only-of-type {\n",
       "        vertical-align: middle;\n",
       "    }\n",
       "\n",
       "    .dataframe tbody tr th {\n",
       "        vertical-align: top;\n",
       "    }\n",
       "\n",
       "    .dataframe thead th {\n",
       "        text-align: right;\n",
       "    }\n",
       "</style>\n",
       "<table border=\"1\" class=\"dataframe\">\n",
       "  <thead>\n",
       "    <tr style=\"text-align: right;\">\n",
       "      <th></th>\n",
       "      <th>userId</th>\n",
       "      <th>venueId</th>\n",
       "      <th>venueCategoryId</th>\n",
       "      <th>venueCategory</th>\n",
       "      <th>latitude</th>\n",
       "      <th>longitude</th>\n",
       "      <th>timezoneOffset</th>\n",
       "      <th>utcTimestamp</th>\n",
       "    </tr>\n",
       "  </thead>\n",
       "  <tbody>\n",
       "    <tr>\n",
       "      <th>0</th>\n",
       "      <td>470</td>\n",
       "      <td>49bbd6c0f964a520f4531fe3</td>\n",
       "      <td>4bf58dd8d48988d127951735</td>\n",
       "      <td>Arts &amp; Crafts Store</td>\n",
       "      <td>40.719810</td>\n",
       "      <td>-74.002581</td>\n",
       "      <td>-240</td>\n",
       "      <td>Tue Apr 03 18:00:09 +0000 2012</td>\n",
       "    </tr>\n",
       "    <tr>\n",
       "      <th>1</th>\n",
       "      <td>979</td>\n",
       "      <td>4a43c0aef964a520c6a61fe3</td>\n",
       "      <td>4bf58dd8d48988d1df941735</td>\n",
       "      <td>Bridge</td>\n",
       "      <td>40.606800</td>\n",
       "      <td>-74.044170</td>\n",
       "      <td>-240</td>\n",
       "      <td>Tue Apr 03 18:00:25 +0000 2012</td>\n",
       "    </tr>\n",
       "    <tr>\n",
       "      <th>2</th>\n",
       "      <td>69</td>\n",
       "      <td>4c5cc7b485a1e21e00d35711</td>\n",
       "      <td>4bf58dd8d48988d103941735</td>\n",
       "      <td>Home (private)</td>\n",
       "      <td>40.716162</td>\n",
       "      <td>-73.883070</td>\n",
       "      <td>-240</td>\n",
       "      <td>Tue Apr 03 18:02:24 +0000 2012</td>\n",
       "    </tr>\n",
       "    <tr>\n",
       "      <th>3</th>\n",
       "      <td>395</td>\n",
       "      <td>4bc7086715a7ef3bef9878da</td>\n",
       "      <td>4bf58dd8d48988d104941735</td>\n",
       "      <td>Medical Center</td>\n",
       "      <td>40.745164</td>\n",
       "      <td>-73.982519</td>\n",
       "      <td>-240</td>\n",
       "      <td>Tue Apr 03 18:02:41 +0000 2012</td>\n",
       "    </tr>\n",
       "    <tr>\n",
       "      <th>4</th>\n",
       "      <td>87</td>\n",
       "      <td>4cf2c5321d18a143951b5cec</td>\n",
       "      <td>4bf58dd8d48988d1cb941735</td>\n",
       "      <td>Food Truck</td>\n",
       "      <td>40.740104</td>\n",
       "      <td>-73.989658</td>\n",
       "      <td>-240</td>\n",
       "      <td>Tue Apr 03 18:03:00 +0000 2012</td>\n",
       "    </tr>\n",
       "  </tbody>\n",
       "</table>\n",
       "</div>"
      ],
      "text/plain": [
       "   userId                   venueId           venueCategoryId  \\\n",
       "0     470  49bbd6c0f964a520f4531fe3  4bf58dd8d48988d127951735   \n",
       "1     979  4a43c0aef964a520c6a61fe3  4bf58dd8d48988d1df941735   \n",
       "2      69  4c5cc7b485a1e21e00d35711  4bf58dd8d48988d103941735   \n",
       "3     395  4bc7086715a7ef3bef9878da  4bf58dd8d48988d104941735   \n",
       "4      87  4cf2c5321d18a143951b5cec  4bf58dd8d48988d1cb941735   \n",
       "\n",
       "         venueCategory   latitude  longitude  timezoneOffset  \\\n",
       "0  Arts & Crafts Store  40.719810 -74.002581            -240   \n",
       "1               Bridge  40.606800 -74.044170            -240   \n",
       "2       Home (private)  40.716162 -73.883070            -240   \n",
       "3       Medical Center  40.745164 -73.982519            -240   \n",
       "4           Food Truck  40.740104 -73.989658            -240   \n",
       "\n",
       "                     utcTimestamp  \n",
       "0  Tue Apr 03 18:00:09 +0000 2012  \n",
       "1  Tue Apr 03 18:00:25 +0000 2012  \n",
       "2  Tue Apr 03 18:02:24 +0000 2012  \n",
       "3  Tue Apr 03 18:02:41 +0000 2012  \n",
       "4  Tue Apr 03 18:03:00 +0000 2012  "
      ]
     },
     "execution_count": 5,
     "metadata": {},
     "output_type": "execute_result"
    }
   ],
   "source": [
    "fsq_data.head()"
   ]
  },
  {
   "cell_type": "code",
   "execution_count": 6,
   "metadata": {},
   "outputs": [
    {
     "data": {
      "text/plain": [
       "array(['Arts & Crafts Store', 'Bridge', 'Home (private)',\n",
       "       'Medical Center', 'Food Truck', 'Food & Drink Shop', 'Coffee Shop',\n",
       "       'Bus Station', 'Bank', 'Gastropub', 'Electronics Store',\n",
       "       'Mobile Phone Shop', 'Café', 'Automotive Shop', 'Restaurant',\n",
       "       'American Restaurant', 'Government Building', 'Airport', 'Ferry',\n",
       "       'Office', 'Other Great Outdoors', 'Building', 'Mexican Restaurant',\n",
       "       'Music Venue', 'Subway', 'Student Center', 'Park', 'Road',\n",
       "       'Burger Joint', 'Sporting Goods Shop', 'Pizza Place',\n",
       "       'Jewelry Store', 'Sandwich Place', 'Clothing Store',\n",
       "       'Neighborhood', 'Ice Cream Shop', 'Soup Place',\n",
       "       'College Academic Building', 'Department Store', 'Playground',\n",
       "       'Tattoo Parlor', 'Mall', 'Deli / Bodega', 'University', 'Diner',\n",
       "       'Music Store', 'Light Rail', 'Salon / Barbershop',\n",
       "       'General College & University', 'Animal Shelter',\n",
       "       'Laundry Service', 'Residential Building (Apartment / Condo)',\n",
       "       'Drugstore / Pharmacy', 'Cuban Restaurant', 'BBQ Joint',\n",
       "       'Other Nightlife', 'Gym / Fitness Center', 'Italian Restaurant',\n",
       "       'Stadium', 'Church', 'Train Station', 'Tanning Salon', 'Hotel',\n",
       "       'Miscellaneous Shop', 'Bar', 'Spanish Restaurant', 'Moving Target',\n",
       "       'Asian Restaurant', 'Factory', 'School', 'General Travel',\n",
       "       'Burrito Place', 'Fast Food Restaurant', 'Dumpling Restaurant',\n",
       "       'Cupcake Shop', 'Wings Joint', 'Caribbean Restaurant',\n",
       "       'Hardware Store', 'Performing Arts Venue', 'Convenience Store',\n",
       "       'French Restaurant', 'Bookstore', 'Bike Shop', 'Campground',\n",
       "       'Gas Station / Garage', 'Parking', 'Salad Place', 'Art Gallery',\n",
       "       'Video Game Store', 'Toy / Game Store', 'Event Space',\n",
       "       'Vegetarian / Vegan Restaurant', 'Sushi Restaurant',\n",
       "       'Convention Center', 'Chinese Restaurant',\n",
       "       'Latin American Restaurant', 'Spa / Massage',\n",
       "       'Paper / Office Supplies Store', 'Candy Store', 'Camera Store',\n",
       "       'Breakfast Spot', 'Southern / Soul Food Restaurant',\n",
       "       'Cosmetics Shop', 'Community College', 'Fried Chicken Joint',\n",
       "       'Plaza', 'Dessert Shop', 'Cemetery', 'Museum', 'Bagel Shop',\n",
       "       'Arcade', 'Concert Hall', 'Athletic & Sport',\n",
       "       'Middle Eastern Restaurant', 'Theater', 'Medical School',\n",
       "       'Tea Room', 'Movie Theater', 'Comedy Club', 'Post Office',\n",
       "       'Seafood Restaurant', 'Scenic Lookout', 'Housing Development',\n",
       "       'Synagogue', 'Donut Shop', 'General Entertainment', 'Pool',\n",
       "       'Japanese Restaurant', 'Arts & Entertainment', 'Pet Store',\n",
       "       'German Restaurant', 'Indian Restaurant', 'Garden',\n",
       "       'Hot Dog Joint', 'Steakhouse', 'Bowling Alley', 'Smoke Shop',\n",
       "       'Pool Hall', 'Harbor / Marina', 'Thai Restaurant', 'Bakery',\n",
       "       'Food', 'Ramen /  Noodle House', 'College Theater',\n",
       "       'Mediterranean Restaurant', 'Beer Garden', 'African Restaurant',\n",
       "       'Outdoors & Recreation', 'River', 'Sorority House', 'Beach',\n",
       "       'Casino', 'Malaysian Restaurant', 'High School', 'Snack Place',\n",
       "       'Taxi', 'College & University', 'Record Shop', 'Temple',\n",
       "       'Historic Site', 'Rest Area', 'Furniture / Home Store',\n",
       "       'History Museum', 'Recycling Facility', 'Bridal Shop', 'Library',\n",
       "       'Nail Salon', 'Professional & Other Places', 'Nursery School',\n",
       "       'Sculpture Garden', 'Antique Shop', 'Taco Place',\n",
       "       'South American Restaurant', 'Law School',\n",
       "       'Thrift / Vintage Store', 'Brazilian Restaurant', 'Winery',\n",
       "       'Greek Restaurant', 'Falafel Restaurant', 'Tapas Restaurant',\n",
       "       'City', 'Eastern European Restaurant', 'Korean Restaurant',\n",
       "       'Ski Area', 'Rental Car Location', 'Spiritual Center',\n",
       "       'Science Museum', 'Car Dealership', 'Flea Market', 'Art Museum',\n",
       "       'Gift Shop', 'Portuguese Restaurant', 'Flower Shop', 'Hobby Shop',\n",
       "       'Car Wash', 'Board Shop', 'Brewery', 'Cajun / Creole Restaurant',\n",
       "       'Mac & Cheese Joint', 'Shop & Service', 'Vietnamese Restaurant',\n",
       "       'Video Store', 'Travel & Transport', 'Dim Sum Restaurant',\n",
       "       'Racetrack', 'Elementary School', 'Zoo', 'Design Studio',\n",
       "       'Gaming Cafe', 'Swiss Restaurant', 'Travel Lounge', 'Trade School',\n",
       "       'Australian Restaurant', 'Funeral Home', 'Shrine',\n",
       "       'Peruvian Restaurant', 'College Stadium', 'Fraternity House',\n",
       "       'Bike Rental / Bike Share', 'Filipino Restaurant',\n",
       "       'Arepa Restaurant', 'Turkish Restaurant', 'Embassy / Consulate',\n",
       "       'Aquarium', 'Scandinavian Restaurant', 'Middle School',\n",
       "       'Financial or Legal Service', 'Fish & Chips Shop', 'Mosque',\n",
       "       'Afghan Restaurant', 'Motorcycle Shop', 'Fair',\n",
       "       'Ethiopian Restaurant', 'Distillery', 'Gluten-free Restaurant',\n",
       "       'Argentinian Restaurant', 'Moroccan Restaurant', 'Nightlife Spot',\n",
       "       'Planetarium', 'Storage Facility',\n",
       "       'Molecular Gastronomy Restaurant', 'Internet Cafe',\n",
       "       'Military Base', 'Newsstand', 'Public Art', 'Market',\n",
       "       'Photography Lab', 'Garden Center', 'Music School', 'Castle',\n",
       "       'Pet Service'], dtype=object)"
      ]
     },
     "execution_count": 6,
     "metadata": {},
     "output_type": "execute_result"
    }
   ],
   "source": [
    "fsq_data.venueCategory.unique()"
   ]
  },
  {
   "cell_type": "code",
   "execution_count": 7,
   "metadata": {},
   "outputs": [],
   "source": [
    "places_pop_of_interest_like = ['Salon / Barbershop', 'Nail Salon', 'Spa / Massage', \n",
    "                               'Cosmetics Shop', 'Antique Shop', 'Jewelry Store', \n",
    "                               'Bridal Shop', 'Clothing Store', 'Sushi Restaurant', \n",
    "                               'Molecular Gastronomy Restaurant', 'Gluten-free Restaurant', \n",
    "                               'Gastropub', 'Cupcake Shop', 'Salad Place']"
   ]
  },
  {
   "cell_type": "code",
   "execution_count": 8,
   "metadata": {},
   "outputs": [],
   "source": [
    "fsq_poi_only = fsq_data[fsq_data['venueCategory'].isin(places_pop_of_interest_like)]"
   ]
  },
  {
   "cell_type": "code",
   "execution_count": 11,
   "metadata": {},
   "outputs": [],
   "source": [
    "import pickle\n",
    "with open('foursquare_POIs_only.pickle', 'wb') as f:\n",
    "    pickle.dump(fsq_poi_only, f)"
   ]
  },
  {
   "cell_type": "code",
   "execution_count": 21,
   "metadata": {},
   "outputs": [],
   "source": [
    "import matplotlib.pyplot as plt\n",
    "% matplotlib inline"
   ]
  },
  {
   "cell_type": "code",
   "execution_count": 23,
   "metadata": {},
   "outputs": [
    {
     "data": {
      "text/plain": [
       "<matplotlib.collections.PathCollection at 0x7f02bbc98a20>"
      ]
     },
     "execution_count": 23,
     "metadata": {},
     "output_type": "execute_result"
    },
    {
     "data": {
      "image/png": "[encoded data removed]",
      "text/plain": [
       "<matplotlib.figure.Figure at 0x7f02bbd045f8>"
      ]
     },
     "metadata": {},
     "output_type": "display_data"
    }
   ],
   "source": [
    "plt.scatter(fsq_poi_only.latitude, fsq_poi_only.longitude)"
   ]
  },
  {
   "cell_type": "code",
   "execution_count": 12,
   "metadata": {},
   "outputs": [
    {
     "name": "stdout",
     "output_type": "stream",
     "text": [
      "Benson.ipynb\t\t  foursquare_POIs_only.pickle\tREADME.md\n",
      "Data_Read_Function.ipynb  foursquare_POIs_only.pkl\n",
      "foursquare_2014_NYC.csv   import_foursquare_data.ipynb\n"
     ]
    }
   ],
   "source": [
    "!ls"
   ]
  },
  {
   "cell_type": "code",
   "execution_count": null,
   "metadata": {},
   "outputs": [],
   "source": []
  }
 ],
 "metadata": {
  "kernelspec": {
   "display_name": "Python 3",
   "language": "python",
   "name": "python3"
  },
  "language_info": {
   "codemirror_mode": {
    "name": "ipython",
    "version": 3
   },
   "file_extension": ".py",
   "mimetype": "text/x-python",
   "name": "python",
   "nbconvert_exporter": "python",
   "pygments_lexer": "ipython3",
   "version": "3.6.4"
  }
 },
 "nbformat": 4,
 "nbformat_minor": 2
}
